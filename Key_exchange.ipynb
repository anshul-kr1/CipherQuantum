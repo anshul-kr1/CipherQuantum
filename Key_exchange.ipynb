{
 "cells": [
  {
   "cell_type": "code",
   "execution_count": 4,
   "id": "18fbd5c1-43af-4b99-a8a8-48b22477b52e",
   "metadata": {
    "tags": []
   },
   "outputs": [],
   "source": [
    "from qiskit import QuantumCircuit, Aer, execute\n",
    "from qiskit.extensions import Initialize\n",
    "import random"
   ]
  },
  {
   "cell_type": "code",
   "execution_count": 5,
   "id": "f95eb04c-ffaa-41b3-9cea-5d1e039081bc",
   "metadata": {
    "tags": []
   },
   "outputs": [],
   "source": [
    "from qiskit import Aer"
   ]
  },
  {
   "cell_type": "code",
   "execution_count": 6,
   "id": "4a5cdc84-ecdb-4edf-8dc2-e41a59636989",
   "metadata": {
    "tags": []
   },
   "outputs": [],
   "source": [
    "backend = Aer.get_backend('qasm_simulator')"
   ]
  },
  {
   "cell_type": "code",
   "execution_count": 7,
   "id": "5db151b4-c008-4758-9872-dae4d4128382",
   "metadata": {
    "tags": []
   },
   "outputs": [],
   "source": [
    "num_qubits = 4  # Number of qubits\n",
    "num_bits = 4  # Number of classical bits"
   ]
  },
  {
   "cell_type": "code",
   "execution_count": 8,
   "id": "3e61178b-ae61-49fb-a3d4-3d4ba22037a2",
   "metadata": {
    "tags": []
   },
   "outputs": [],
   "source": [
    "# Import numpy for random number generation\n",
    "import numpy as np\n",
    "\n",
    "# importing Qiskit\n",
    "from qiskit import QuantumCircuit, ClassicalRegister, QuantumRegister, execute, BasicAer\n",
    "\n",
    "# Import basic plotting tools\n",
    "from qiskit.tools.visualization import plot_histogram"
   ]
  },
  {
   "cell_type": "code",
   "execution_count": 9,
   "id": "99d6fbcd-ff3e-4539-a3a5-5f4e8ee86fc5",
   "metadata": {
    "tags": []
   },
   "outputs": [],
   "source": [
    "# Creating registers with n qubits\n",
    "n = 16  # for a local backend n can go as up as 23, after that it raises a Memory Error\n",
    "qr = QuantumRegister(n, name='qr')\n",
    "cr = ClassicalRegister(n, name='cr')"
   ]
  },
  {
   "cell_type": "code",
   "execution_count": 10,
   "id": "d7092752-931e-4ccf-95cd-488af968e394",
   "metadata": {
    "tags": []
   },
   "outputs": [],
   "source": [
    "# Quantum circuit for alice state\n",
    "alice = QuantumCircuit(qr, cr, name='Alice')\n",
    "\n",
    "# Generate a random number in the range of available qubits [0,65536))\n",
    "alice_key = np.random.randint(0, high=2**n)\n",
    "\n",
    "# Cast key to binary for encoding\n",
    "# range: key[0]-key[15] with key[15] least significant figure\n",
    "alice_key = np.binary_repr(alice_key, n) # n is the width"
   ]
  },
  {
   "cell_type": "code",
   "execution_count": 11,
   "id": "7f89dd1e-64b0-469e-a87b-fc5e597e42c2",
   "metadata": {
    "tags": []
   },
   "outputs": [],
   "source": [
    "# Encode key as alice qubits \n",
    "# IBM's qubits are all set to |0> initially\n",
    "for index, digit in enumerate(alice_key):\n",
    "    if digit == '1':\n",
    "        alice.x(qr[index]) # if key has a '1', change state to |1>\n",
    "        \n",
    "# Switch randomly about half qubits to diagonal basis\n",
    "alice_table = []        # Create empty basis table\n",
    "for index in range(len(qr)):       # BUG: enumerate(q) raises an out of range error\n",
    "    if 0.5 < np.random.random():   # With 50% chance...\n",
    "        alice.h(qr[index])         # ...change to diagonal basis\n",
    "        alice_table.append('X')    # character for diagonal basis\n",
    "    else:\n",
    "        alice_table.append('Z')    # character for computational basis"
   ]
  },
  {
   "cell_type": "code",
   "execution_count": 12,
   "id": "cc61bff1-f053-4982-8494-f56b6883dd7c",
   "metadata": {
    "tags": []
   },
   "outputs": [],
   "source": [
    "# get_qasm method needs the str label\n",
    "# alternatively we can use circuits[0] but since dicts are not ordered\n",
    "# it is not a good idea to put them in a func\n",
    "# circuits = list(qp.get_circuit_names())\n",
    "\n",
    "def SendState(qc1, qc2, qc1_name):\n",
    "    ''' This function takes the output of a circuit qc1 (made up only of x and \n",
    "        h gates and initializes another circuit qc2 with the same state\n",
    "    ''' \n",
    "    \n",
    "    # Quantum state is retrieved from qasm code of qc1\n",
    "    qs = qc1.qasm().split(sep=';')[4:-1]\n",
    "\n",
    "    # Process the code to get the instructions\n",
    "    for index, instruction in enumerate(qs):\n",
    "        qs[index] = instruction.lstrip()\n",
    "\n",
    "    # Parse the instructions and apply to new circuit\n",
    "    for instruction in qs:\n",
    "        if instruction[0] == 'x':\n",
    "            old_qr = int(instruction[5:-1])\n",
    "            qc2.x(qr[old_qr])\n",
    "        elif instruction[0] == 'h':\n",
    "            old_qr = int(instruction[5:-1])\n",
    "            qc2.h(qr[old_qr])\n",
    "        elif instruction[0] == 'm': # exclude measuring:\n",
    "            pass\n",
    "        else:\n",
    "            raise Exception('Unable to parse instruction')"
   ]
  },
  {
   "cell_type": "code",
   "execution_count": 13,
   "id": "c4ea2d7b-e766-4333-83d3-d00b1cb0ed0c",
   "metadata": {
    "tags": []
   },
   "outputs": [],
   "source": [
    "bob = QuantumCircuit(qr, cr, name='Bob')\n",
    "\n",
    "SendState(alice, bob, 'Alice')    \n",
    "\n",
    "# Bob doesn't know which basis to use\n",
    "bob_table = []\n",
    "for index in range(len(qr)): \n",
    "    if 0.5 < np.random.random():  # With 50% chance...\n",
    "        bob.h(qr[index])        # ...change to diagonal basis\n",
    "        bob_table.append('X')\n",
    "    else:\n",
    "        bob_table.append('Z')"
   ]
  },
  {
   "cell_type": "code",
   "execution_count": 14,
   "id": "4dc12270-12f1-418a-b185-99f418e13bcb",
   "metadata": {
    "tags": []
   },
   "outputs": [],
   "source": [
    "for index in range(len(qr)): \n",
    "    bob.measure(qr[index], cr[index])\n",
    "    \n",
    "# Execute the quantum circuit \n",
    "backend = BasicAer.get_backend('qasm_simulator')    \n",
    "result = execute(bob, backend=backend, shots=1).result()"
   ]
  },
  {
   "cell_type": "code",
   "execution_count": 15,
   "id": "566d786b-642c-4a5d-9ce0-8490049db652",
   "metadata": {
    "tags": []
   },
   "outputs": [],
   "source": [
    "# Result of the measure is Bob's key candidate\n",
    "bob_key = list(result.get_counts(bob))[0]\n",
    "bob_key = bob_key[::-1]      # key is reversed so that first qubit is the first element of the list"
   ]
  },
  {
   "cell_type": "code",
   "execution_count": 16,
   "id": "9449941e-00f6-4f4d-9e9b-5ebc56b66bad",
   "metadata": {
    "tags": []
   },
   "outputs": [
    {
     "name": "stdout",
     "output_type": "stream",
     "text": [
      "Different choice for qubit: 0, Alice has Z, Bob has X\n",
      "Different choice for qubit: 1, Alice has Z, Bob has X\n",
      "Same choice for qubit: 2, basis: X\n",
      "Different choice for qubit: 3, Alice has Z, Bob has X\n",
      "Same choice for qubit: 4, basis: X\n",
      "Different choice for qubit: 5, Alice has Z, Bob has X\n",
      "Different choice for qubit: 6, Alice has Z, Bob has X\n",
      "Different choice for qubit: 7, Alice has Z, Bob has X\n",
      "Same choice for qubit: 8, basis: Z\n",
      "Same choice for qubit: 9, basis: Z\n",
      "Different choice for qubit: 10, Alice has Z, Bob has X\n",
      "Same choice for qubit: 11, basis: Z\n",
      "Same choice for qubit: 12, basis: Z\n",
      "Different choice for qubit: 13, Alice has X, Bob has Z\n",
      "Same choice for qubit: 14, basis: Z\n",
      "Different choice for qubit: 15, Alice has X, Bob has Z\n"
     ]
    }
   ],
   "source": [
    "keep = []\n",
    "discard = []\n",
    "for qubit, basis in enumerate(zip(alice_table, bob_table)):\n",
    "    if basis[0] == basis[1]:\n",
    "        print(\"Same choice for qubit: {}, basis: {}\" .format(qubit, basis[0])) \n",
    "        keep.append(qubit)\n",
    "    else:\n",
    "        print(\"Different choice for qubit: {}, Alice has {}, Bob has {}\" .format(qubit, basis[0], basis[1]))\n",
    "        discard.append(qubit)"
   ]
  },
  {
   "cell_type": "code",
   "execution_count": 17,
   "id": "18157d88-a327-4ecc-ba07-5cfa0b5c8637",
   "metadata": {
    "tags": []
   },
   "outputs": [
    {
     "name": "stdout",
     "output_type": "stream",
     "text": [
      "Percentage of qubits to be discarded according to table comparison:  0.4375\n",
      "Measurement convergence by additional chance:  0.6875\n"
     ]
    }
   ],
   "source": [
    "acc = 0\n",
    "for bit in zip(alice_key, bob_key):\n",
    "    if bit[0] == bit[1]:\n",
    "        acc += 1\n",
    "\n",
    "print('Percentage of qubits to be discarded according to table comparison: ', len(keep)/n)\n",
    "print('Measurement convergence by additional chance: ', acc/n)   "
   ]
  },
  {
   "cell_type": "code",
   "execution_count": 18,
   "id": "37368f27-c512-48d0-a389-4d2c8a5adf54",
   "metadata": {
    "tags": []
   },
   "outputs": [
    {
     "name": "stdout",
     "output_type": "stream",
     "text": [
      "Percentage of similarity between the keys:  1.0\n"
     ]
    }
   ],
   "source": [
    "new_alice_key = [alice_key[qubit] for qubit in keep]\n",
    "new_bob_key = [bob_key[qubit] for qubit in keep]\n",
    "\n",
    "acc = 0\n",
    "for bit in zip(new_alice_key, new_bob_key):\n",
    "    if bit[0] == bit[1]:\n",
    "        acc += 1        \n",
    "        \n",
    "print('Percentage of similarity between the keys: ', acc/len(new_alice_key))  \n"
   ]
  },
  {
   "cell_type": "code",
   "execution_count": 26,
   "id": "95d7e8bf-4d2a-44a8-8898-7c9257876e24",
   "metadata": {
    "tags": []
   },
   "outputs": [
    {
     "name": "stdout",
     "output_type": "stream",
     "text": [
      "Key exchange has been successfull\n",
      "New Alice's key:  ['0', '1', '1', '0', '0', '0', '1']\n",
      "New Bob's key:  ['0', '1', '1', '0', '0', '0', '1']\n",
      "0110001\n"
     ]
    }
   ],
   "source": [
    "if (acc//len(new_alice_key) == 1):\n",
    "    print(\"Key exchange has been successfull\")\n",
    "    print(\"New Alice's key: \", new_alice_key)\n",
    "    print(\"New Bob's key: \", new_bob_key)\n",
    "    new_list = map(str, new_alice_key)\n",
    "    string_value = ''.join(new_list)\n",
    "    \n",
    "    def return_key(string_value):\n",
    "        return string_value\n",
    "    return_key(string_value)\n",
    "    \n",
    "else:\n",
    "    print(\"Key exchange has been tampered! Check for eavesdropper or try again\")\n",
    "    print(\"New Alice's key is invalid: \", new_alice_key)\n",
    "    print(\"New Bob's key is invalid: \", new_bob_key)\n",
    "    "
   ]
  },
  {
   "cell_type": "code",
   "execution_count": null,
   "id": "7b3bc453-ca4a-419c-8c3b-08b8beb63e60",
   "metadata": {},
   "outputs": [],
   "source": [
    "############################################## EAVESDROPPER IN ACTION ###########################"
   ]
  },
  {
   "cell_type": "code",
   "execution_count": 32,
   "id": "2ed19882-bb4d-44da-85e9-3eb11ea01e45",
   "metadata": {
    "tags": []
   },
   "outputs": [],
   "source": [
    "eve = QuantumCircuit(qr, cr, name='Eve')\n",
    "SendState(alice, eve, 'Alice') "
   ]
  },
  {
   "cell_type": "code",
   "execution_count": 33,
   "id": "aed28fdb-2707-4a34-8177-070730e37b0b",
   "metadata": {
    "tags": []
   },
   "outputs": [],
   "source": [
    "eve_table = []\n",
    "for index in range(len(qr)): \n",
    "    if 0.5 < np.random.random(): \n",
    "        eve.h(qr[index])        \n",
    "        eve_table.append('X')\n",
    "    else:\n",
    "        eve_table.append('Z')"
   ]
  },
  {
   "cell_type": "code",
   "execution_count": 34,
   "id": "31c1ede2-4f0f-4c4c-a77c-b8bcd0d841ee",
   "metadata": {
    "tags": []
   },
   "outputs": [],
   "source": [
    "for index in range(len(qr)): \n",
    "    eve.measure(qr[index], cr[index])\n",
    "    \n",
    "# Execute (build and run) the quantum circuit \n",
    "backend = BasicAer.get_backend('qasm_simulator')    \n",
    "result = execute(eve, backend=backend, shots=1).result()\n",
    "\n",
    "# Result of the measure is Eve's key\n",
    "eve_key = list(result.get_counts(eve))[0]\n",
    "eve_key = eve_key[::-1]"
   ]
  },
  {
   "cell_type": "code",
   "execution_count": 35,
   "id": "64208bce-3885-4e4f-b1ee-b75955acf3b9",
   "metadata": {
    "tags": []
   },
   "outputs": [
    {
     "name": "stdout",
     "output_type": "stream",
     "text": [
      "Same choice for qubit: 0, basis: Z\n",
      "Different choice for qubit: 1, Alice has Z, Eve has X\n",
      "Different choice for qubit: 2, Alice has X, Eve has Z\n",
      "Different choice for qubit: 3, Alice has X, Eve has Z\n",
      "Different choice for qubit: 4, Alice has X, Eve has Z\n",
      "Same choice for qubit: 5, basis: X\n",
      "Same choice for qubit: 6, basis: Z\n",
      "Same choice for qubit: 7, basis: Z\n",
      "Different choice for qubit: 8, Alice has Z, Eve has X\n",
      "Same choice for qubit: 9, basis: Z\n",
      "Same choice for qubit: 10, basis: X\n",
      "Same choice for qubit: 11, basis: Z\n",
      "Same choice for qubit: 12, basis: X\n",
      "Different choice for qubit: 13, Alice has X, Eve has Z\n",
      "Same choice for qubit: 14, basis: X\n",
      "Same choice for qubit: 15, basis: X\n"
     ]
    }
   ],
   "source": [
    "# Update states to new eigenstates (of wrongly chosen basis)\n",
    "for qubit, basis in enumerate(zip(alice_table, eve_table)):\n",
    "    if basis[0] == basis[1]:\n",
    "        print(\"Same choice for qubit: {}, basis: {}\" .format(qubit, basis[0]))\n",
    "    else:\n",
    "        print(\"Different choice for qubit: {}, Alice has {}, Eve has {}\" .format(qubit, basis[0], basis[1]))\n",
    "        if eve_key[qubit] == alice_key[qubit]:\n",
    "            eve.h(qr[qubit])\n",
    "        else:\n",
    "            if basis[0] == 'X' and basis[1] == 'Z':\n",
    "                eve.h(qr[qubit])\n",
    "                eve.x(qr[qubit])\n",
    "            else:\n",
    "                eve.x(qr[qubit])\n",
    "                eve.h(qr[qubit])"
   ]
  },
  {
   "cell_type": "code",
   "execution_count": 37,
   "id": "470f8373-826a-4d80-b9fc-0d961d2f8931",
   "metadata": {
    "tags": []
   },
   "outputs": [],
   "source": [
    "bob_key = list(result.get_counts(bob))[0]\n",
    "bob_key = bob_key[::-1]"
   ]
  },
  {
   "cell_type": "code",
   "execution_count": 38,
   "id": "b6be261a-e236-451b-8f2a-b0e3b1634142",
   "metadata": {
    "tags": []
   },
   "outputs": [
    {
     "name": "stdout",
     "output_type": "stream",
     "text": [
      "Same choice for qubit: 0, basis: Z\n",
      "Different choice for qubit: 1, Alice has Z, Bob has X\n",
      "Different choice for qubit: 2, Alice has X, Bob has Z\n",
      "Different choice for qubit: 3, Alice has X, Bob has Z\n",
      "Same choice for qubit: 4, basis: X\n",
      "Different choice for qubit: 5, Alice has X, Bob has Z\n",
      "Same choice for qubit: 6, basis: Z\n",
      "Same choice for qubit: 7, basis: Z\n",
      "Different choice for qubit: 8, Alice has Z, Bob has X\n",
      "Same choice for qubit: 9, basis: Z\n",
      "Same choice for qubit: 10, basis: X\n",
      "Same choice for qubit: 11, basis: Z\n",
      "Different choice for qubit: 12, Alice has X, Bob has Z\n",
      "Different choice for qubit: 13, Alice has X, Bob has Z\n",
      "Same choice for qubit: 14, basis: X\n",
      "Same choice for qubit: 15, basis: X\n",
      "\n",
      "Percentage of qubits to be discarded according to table comparison:  0.5625\n",
      "Measurement convergence by additional chance:  0.5625\n",
      "\n",
      "Percentage of similarity between the keys:  0.6666666666666666\n",
      "\n",
      "Key exchange has been tampered! Check for eavesdropper or try again\n",
      "New Alice's key is invalid:  ['1', '0', '1', '0', '0', '0', '0', '0', '1']\n",
      "New Bob's key is invalid:  ['1', '0', '0', '1', '0', '0', '1', '0', '1']\n"
     ]
    }
   ],
   "source": [
    "keep = []\n",
    "discard = []\n",
    "for qubit, basis in enumerate(zip(alice_table, bob_table)):\n",
    "    if basis[0] == basis[1]:\n",
    "        print(\"Same choice for qubit: {}, basis: {}\" .format(qubit, basis[0])) \n",
    "        keep.append(qubit)\n",
    "    else:\n",
    "        print(\"Different choice for qubit: {}, Alice has {}, Bob has {}\" .format(qubit, basis[0], basis[1]))\n",
    "        discard.append(qubit)\n",
    "        \n",
    "acc = 0\n",
    "for bit in zip(alice_key, bob_key):\n",
    "    if bit[0] == bit[1]:\n",
    "        acc += 1\n",
    "\n",
    "print('\\nPercentage of qubits to be discarded according to table comparison: ', len(keep)/n)\n",
    "print('Measurement convergence by additional chance: ', acc/n)  \n",
    "\n",
    "new_alice_key = [alice_key[qubit] for qubit in keep]\n",
    "new_bob_key = [bob_key[qubit] for qubit in keep]\n",
    "\n",
    "acc = 0\n",
    "for bit in zip(new_alice_key, new_bob_key):\n",
    "    if bit[0] == bit[1]:\n",
    "        acc += 1        \n",
    "        \n",
    "print('\\nPercentage of similarity between the keys: ', acc/len(new_alice_key)) \n",
    "\n",
    "if (acc//len(new_alice_key) == 1):\n",
    "    print(\"\\nKey exchange has been successfull\")\n",
    "    print(\"New Alice's key: \", new_alice_key)\n",
    "    print(\"New Bob's key: \", new_bob_key)\n",
    "else:\n",
    "    print(\"\\nKey exchange has been tampered! Check for eavesdropper or try again\")\n",
    "    print(\"New Alice's key is invalid: \", new_alice_key)\n",
    "    print(\"New Bob's key is invalid: \", new_bob_key)"
   ]
  },
  {
   "cell_type": "code",
   "execution_count": null,
   "id": "f60d2745-c784-4a78-8ff9-7c7300dadeba",
   "metadata": {},
   "outputs": [],
   "source": []
  }
 ],
 "metadata": {
  "kernelspec": {
   "display_name": "Python 3 (ipykernel)",
   "language": "python",
   "name": "python3"
  },
  "language_info": {
   "codemirror_mode": {
    "name": "ipython",
    "version": 3
   },
   "file_extension": ".py",
   "mimetype": "text/x-python",
   "name": "python",
   "nbconvert_exporter": "python",
   "pygments_lexer": "ipython3",
   "version": "3.10.8"
  },
  "widgets": {
   "application/vnd.jupyter.widget-state+json": {
    "state": {},
    "version_major": 2,
    "version_minor": 0
   }
  }
 },
 "nbformat": 4,
 "nbformat_minor": 5
}
